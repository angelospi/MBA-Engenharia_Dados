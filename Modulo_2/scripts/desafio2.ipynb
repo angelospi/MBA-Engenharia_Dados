{
 "cells": [
  {
   "cell_type": "code",
   "source": [
    "from pyspark.sql import SparkSession"
   ],
   "metadata": {
    "application/vnd.databricks.v1+cell": {
     "showTitle": false,
     "cellMetadata": {},
     "nuid": "f24c4e11-39ae-4131-8c3f-f886195a850b",
     "inputWidgets": {},
     "title": ""
    }
   },
   "outputs": [],
   "execution_count": 0
  },
  {
   "cell_type": "code",
   "source": [
    "spark = SparkSession \\\n",
    " .builder \\\n",
    " .appName(\"Pratica2\") \\\n",
    " .getOrCreate()"
   ],
   "metadata": {
    "application/vnd.databricks.v1+cell": {
     "showTitle": false,
     "cellMetadata": {},
     "nuid": "40a9e5b0-475e-4c14-ab2e-38c6e9f9185c",
     "inputWidgets": {},
     "title": ""
    }
   },
   "outputs": [],
   "execution_count": 0
  },
  {
   "cell_type": "code",
   "source": [
    "df_titles = spark.read.csv('/FileStore/tables/title_ratings.tsv', header=True,\n",
    "inferSchema=True, sep='\\t')\n",
    "df_basics = spark.read.csv('/FileStore/tables/title_basics.tsv', header=True,\n",
    "inferSchema=True, sep='\\t')\n"
   ],
   "metadata": {
    "application/vnd.databricks.v1+cell": {
     "showTitle": false,
     "cellMetadata": {},
     "nuid": "88ed4ef7-8156-4748-a63b-c1047842dc1c",
     "inputWidgets": {},
     "title": ""
    }
   },
   "outputs": [],
   "execution_count": 0
  },
  {
   "cell_type": "code",
   "source": [
    "# Realizando merge nos dataset\n",
    "merge_df=df_basics.join(df_titles,df_basics.tconst == df_titles.tconst,\"left\")"
   ],
   "metadata": {
    "application/vnd.databricks.v1+cell": {
     "showTitle": false,
     "cellMetadata": {},
     "nuid": "0a0bda14-98fe-4a05-b357-a8c13079a898",
     "inputWidgets": {},
     "title": ""
    }
   },
   "outputs": [],
   "execution_count": 0
  },
  {
   "cell_type": "code",
   "source": [
    "# Visualizando valores dentro de \"TitleType\"\n",
    "merge_df.select(\"titleType\").distinct().show()"
   ],
   "metadata": {
    "application/vnd.databricks.v1+cell": {
     "showTitle": false,
     "cellMetadata": {},
     "nuid": "0cd11831-f4de-4535-b2e5-084642719a5e",
     "inputWidgets": {},
     "title": ""
    }
   },
   "outputs": [
    {
     "output_type": "display_data",
     "metadata": {
      "application/vnd.databricks.v1+output": {
       "name": null,
       "datasetInfos": [],
       "data": "+------------+\n|   titleType|\n+------------+\n|    tvSeries|\n|tvMiniSeries|\n|     tvMovie|\n|   tvEpisode|\n|       movie|\n|   tvSpecial|\n|       video|\n|   videoGame|\n|     tvShort|\n|       short|\n+------------+\n\n",
       "removedWidgets": [],
       "addedWidgets": {},
       "metadata": {},
       "type": "ansi",
       "arguments": {}
      }
     },
     "data": {
      "text/plain": [
       "+------------+\n|   titleType|\n+------------+\n|    tvSeries|\n|tvMiniSeries|\n|     tvMovie|\n|   tvEpisode|\n|       movie|\n|   tvSpecial|\n|       video|\n|   videoGame|\n|     tvShort|\n|       short|\n+------------+\n\n"
      ]
     }
    }
   ],
   "execution_count": 0
  },
  {
   "cell_type": "code",
   "source": [
    "# Questão: Qual a quantidade de filmes lançados em 2015, incluindo os da TV?\n",
    "merge_df.filter((merge_df['titleType']=='tvMovie') | (merge_df['titleType']=='movie')).filter(merge_df['startYear']=='2015').count()"
   ],
   "metadata": {
    "application/vnd.databricks.v1+cell": {
     "showTitle": false,
     "cellMetadata": {},
     "nuid": "123b3120-149a-4a44-a5bb-444d7f014c00",
     "inputWidgets": {},
     "title": ""
    }
   },
   "outputs": [
    {
     "output_type": "display_data",
     "metadata": {
      "application/vnd.databricks.v1+output": {
       "name": null,
       "datasetInfos": [],
       "data": "Out[26]: 19987",
       "removedWidgets": [],
       "addedWidgets": {},
       "metadata": {},
       "type": "ansi",
       "arguments": {}
      }
     },
     "data": {
      "text/plain": [
       "Out[26]: 19987"
      ]
     }
    }
   ],
   "execution_count": 0
  },
  {
   "cell_type": "code",
   "source": [
    "# Questão: Qual gênero que foi mais lançado?\n",
    "merge_df.groupBy(\"genres\").count().orderBy(\"count\", ascending=False).show()"
   ],
   "metadata": {
    "application/vnd.databricks.v1+cell": {
     "showTitle": false,
     "cellMetadata": {},
     "nuid": "e53009d9-783a-4d3d-b722-5337b8b10cc1",
     "inputWidgets": {},
     "title": ""
    }
   },
   "outputs": [
    {
     "output_type": "display_data",
     "metadata": {
      "application/vnd.databricks.v1+output": {
       "name": null,
       "datasetInfos": [],
       "data": "+-----------------+------+\n|           genres| count|\n+-----------------+------+\n|            Drama|880649|\n|               \\N|643012|\n|           Comedy|568956|\n|        Talk-Show|467788|\n|      Documentary|392359|\n|    Drama,Romance|354735|\n|             News|266279|\n|       Reality-TV|251369|\n|            Adult|221116|\n|            Short|169026|\n|      Drama,Short|161288|\n|           Family|136195|\n|   News,Talk-Show|135690|\n|     Comedy,Short|132338|\n|Documentary,Short|125081|\n|        Game-Show|122741|\n|      Music,Short| 97140|\n|          Romance| 90742|\n|            Music| 88697|\n|            Sport| 88461|\n+-----------------+------+\nonly showing top 20 rows\n\n",
       "removedWidgets": [],
       "addedWidgets": {},
       "metadata": {},
       "type": "ansi",
       "arguments": {}
      }
     },
     "data": {
      "text/plain": [
       "+-----------------+------+\n|           genres| count|\n+-----------------+------+\n|            Drama|880649|\n|               \\N|643012|\n|           Comedy|568956|\n|        Talk-Show|467788|\n|      Documentary|392359|\n|    Drama,Romance|354735|\n|             News|266279|\n|       Reality-TV|251369|\n|            Adult|221116|\n|            Short|169026|\n|      Drama,Short|161288|\n|           Family|136195|\n|   News,Talk-Show|135690|\n|     Comedy,Short|132338|\n|Documentary,Short|125081|\n|        Game-Show|122741|\n|      Music,Short| 97140|\n|          Romance| 90742|\n|            Music| 88697|\n|            Sport| 88461|\n+-----------------+------+\nonly showing top 20 rows\n\n"
      ]
     }
    }
   ],
   "execution_count": 0
  },
  {
   "cell_type": "code",
   "source": [
    "from pyspark.sql.functions import explode\n",
    "from pyspark.sql.functions import split\n",
    "\n",
    "# Criar coluna \"genres_explode\" transformando em lista a colunas genres\n",
    "split_col = split(merge_df['genres'], ',')\n",
    "merge_df = merge_df.withColumn('genres_explode', split_col)"
   ],
   "metadata": {
    "application/vnd.databricks.v1+cell": {
     "showTitle": false,
     "cellMetadata": {},
     "nuid": "2773b568-e7f7-43b1-b72a-93248831cef5",
     "inputWidgets": {},
     "title": ""
    }
   },
   "outputs": [],
   "execution_count": 0
  },
  {
   "cell_type": "code",
   "source": [
    "merge_df.show(10)"
   ],
   "metadata": {
    "application/vnd.databricks.v1+cell": {
     "showTitle": false,
     "cellMetadata": {},
     "nuid": "c4ce0f4e-612e-4d48-b42e-d8ce8fb27420",
     "inputWidgets": {},
     "title": ""
    }
   },
   "outputs": [
    {
     "output_type": "display_data",
     "metadata": {
      "application/vnd.databricks.v1+output": {
       "name": null,
       "datasetInfos": [],
       "data": "+----------+---------+--------------------+--------------------+-------+---------+-------+--------------+-----------------+---------+-------------+--------+--------------------+\n|    tconst|titleType|        primaryTitle|       originalTitle|isAdult|startYear|endYear|runtimeMinutes|           genres|   tconst|averageRating|numVotes|      genres_explode|\n+----------+---------+--------------------+--------------------+-------+---------+-------+--------------+-----------------+---------+-------------+--------+--------------------+\n| tt0000002|    short|Le clown et ses c...|Le clown et ses c...|      0|     1892|     \\N|             5|  Animation,Short|tt0000002|          6.0|     233|  [Animation, Short]|\n| tt0000004|    short|         Un bon bock|         Un bon bock|      0|     1892|     \\N|            12|  Animation,Short|tt0000004|          6.1|     152|  [Animation, Short]|\n| tt0000008|    short|Edison Kinetoscop...|Edison Kinetoscop...|      0|     1894|     \\N|             1|Documentary,Short|tt0000008|          5.5|    1965|[Documentary, Short]|\n|tt10160736|tvEpisode|#MeToo im Bundeshaus|#MeToo im Bundeshaus|      0|     2017|     \\N|            \\N|        Biography|     null|         null|    null|         [Biography]|\n| tt1198615|    video|       More Than You|       More Than You|      0|     2006|     \\N|            85|            Drama|     null|         null|    null|             [Drama]|\n| tt1198616|    short|      My Lady's Boot|      My Lady's Boot|      0|     1913|     \\N|            \\N|      Drama,Short|     null|         null|    null|      [Drama, Short]|\n|tt11986168|tvEpisode|Tiger Chor Daku D...|Tiger Chor Daku D...|      0|       \\N|     \\N|            \\N|           Action|     null|         null|    null|            [Action]|\n| tt1699689|    short|                Puls|                Puls|      0|     2010|     \\N|            14|      Drama,Short|tt1699689|          7.0|      10|      [Drama, Short]|\n| tt5578326|tvEpisode|       Episode #1.86|       Episode #1.86|      0|     2010|     \\N|            \\N|   Comedy,Romance|     null|         null|    null|   [Comedy, Romance]|\n| tt5578330|tvEpisode|       Episode #1.90|       Episode #1.90|      0|     2010|     \\N|            \\N|   Comedy,Romance|     null|         null|    null|   [Comedy, Romance]|\n+----------+---------+--------------------+--------------------+-------+---------+-------+--------------+-----------------+---------+-------------+--------+--------------------+\nonly showing top 10 rows\n\n",
       "removedWidgets": [],
       "addedWidgets": {},
       "metadata": {},
       "type": "ansi",
       "arguments": {}
      }
     },
     "data": {
      "text/plain": [
       "+----------+---------+--------------------+--------------------+-------+---------+-------+--------------+-----------------+---------+-------------+--------+--------------------+\n|    tconst|titleType|        primaryTitle|       originalTitle|isAdult|startYear|endYear|runtimeMinutes|           genres|   tconst|averageRating|numVotes|      genres_explode|\n+----------+---------+--------------------+--------------------+-------+---------+-------+--------------+-----------------+---------+-------------+--------+--------------------+\n| tt0000002|    short|Le clown et ses c...|Le clown et ses c...|      0|     1892|     \\N|             5|  Animation,Short|tt0000002|          6.0|     233|  [Animation, Short]|\n| tt0000004|    short|         Un bon bock|         Un bon bock|      0|     1892|     \\N|            12|  Animation,Short|tt0000004|          6.1|     152|  [Animation, Short]|\n| tt0000008|    short|Edison Kinetoscop...|Edison Kinetoscop...|      0|     1894|     \\N|             1|Documentary,Short|tt0000008|          5.5|    1965|[Documentary, Short]|\n|tt10160736|tvEpisode|#MeToo im Bundeshaus|#MeToo im Bundeshaus|      0|     2017|     \\N|            \\N|        Biography|     null|         null|    null|         [Biography]|\n| tt1198615|    video|       More Than You|       More Than You|      0|     2006|     \\N|            85|            Drama|     null|         null|    null|             [Drama]|\n| tt1198616|    short|      My Lady's Boot|      My Lady's Boot|      0|     1913|     \\N|            \\N|      Drama,Short|     null|         null|    null|      [Drama, Short]|\n|tt11986168|tvEpisode|Tiger Chor Daku D...|Tiger Chor Daku D...|      0|       \\N|     \\N|            \\N|           Action|     null|         null|    null|            [Action]|\n| tt1699689|    short|                Puls|                Puls|      0|     2010|     \\N|            14|      Drama,Short|tt1699689|          7.0|      10|      [Drama, Short]|\n| tt5578326|tvEpisode|       Episode #1.86|       Episode #1.86|      0|     2010|     \\N|            \\N|   Comedy,Romance|     null|         null|    null|   [Comedy, Romance]|\n| tt5578330|tvEpisode|       Episode #1.90|       Episode #1.90|      0|     2010|     \\N|            \\N|   Comedy,Romance|     null|         null|    null|   [Comedy, Romance]|\n+----------+---------+--------------------+--------------------+-------+---------+-------+--------------+-----------------+---------+-------------+--------+--------------------+\nonly showing top 10 rows\n\n"
      ]
     }
    }
   ],
   "execution_count": 0
  },
  {
   "cell_type": "code",
   "source": [
    "#Questão: Qual o gênero com maior média de pontuação? \n",
    "merge_df.select(\"titleType\",\"averageRating\", explode('genres_explode').alias(\"explode\")).groupBy(\"explode\").avg(\"averageRating\").orderBy(\"avg(averageRating)\", ascending=False).show()"
   ],
   "metadata": {
    "application/vnd.databricks.v1+cell": {
     "showTitle": false,
     "cellMetadata": {},
     "nuid": "db5272f4-baa2-4221-af5e-a86b8e5de832",
     "inputWidgets": {},
     "title": ""
    }
   },
   "outputs": [
    {
     "output_type": "display_data",
     "metadata": {
      "application/vnd.databricks.v1+output": {
       "name": null,
       "datasetInfos": [],
       "data": "+-----------+------------------+\n|    explode|avg(averageRating)|\n+-----------+------------------+\n|    History| 7.353780102645081|\n|Documentary|7.2401985355545815|\n|  Biography| 7.175531914893617|\n|    Mystery| 7.170086406897925|\n|      Crime| 7.159842868485945|\n|  Adventure| 7.107629703351741|\n|    Fantasy| 7.095145650845381|\n|  Animation|7.0893811714832315|\n|    Western| 7.080683426568712|\n|     Family| 7.070054926034478|\n|      Drama|  7.04097915504021|\n|        War| 7.009115134414922|\n|     Action| 7.007098138747894|\n|      Sport| 6.966792418526429|\n|     Comedy| 6.960016550918436|\n|      Music| 6.927469624015707|\n| Reality-TV| 6.892611170895954|\n|  Game-Show| 6.876828101904178|\n|    Romance| 6.864016164703964|\n|      Short| 6.791292438368549|\n+-----------+------------------+\nonly showing top 20 rows\n\n",
       "removedWidgets": [],
       "addedWidgets": {},
       "metadata": {},
       "type": "ansi",
       "arguments": {}
      }
     },
     "data": {
      "text/plain": [
       "+-----------+------------------+\n|    explode|avg(averageRating)|\n+-----------+------------------+\n|    History| 7.353780102645081|\n|Documentary|7.2401985355545815|\n|  Biography| 7.175531914893617|\n|    Mystery| 7.170086406897925|\n|      Crime| 7.159842868485945|\n|  Adventure| 7.107629703351741|\n|    Fantasy| 7.095145650845381|\n|  Animation|7.0893811714832315|\n|    Western| 7.080683426568712|\n|     Family| 7.070054926034478|\n|      Drama|  7.04097915504021|\n|        War| 7.009115134414922|\n|     Action| 7.007098138747894|\n|      Sport| 6.966792418526429|\n|     Comedy| 6.960016550918436|\n|      Music| 6.927469624015707|\n| Reality-TV| 6.892611170895954|\n|  Game-Show| 6.876828101904178|\n|    Romance| 6.864016164703964|\n|      Short| 6.791292438368549|\n+-----------+------------------+\nonly showing top 20 rows\n\n"
      ]
     }
    }
   ],
   "execution_count": 0
  },
  {
   "cell_type": "code",
   "source": [
    "# Filtrando dados pelo ano de lançamento e pelo tipo do título\n",
    "df_questao7=merge_df.select(\"titleType\",\"averageRating\", \"originalTitle\",\"primaryTitle\",\"startYear\",explode('genres_explode').alias(\"explode\")) \\\n",
    ".filter(merge_df['titleType']=='videoGame').filter(merge_df[\"startYear\"]=='2020')\n"
   ],
   "metadata": {
    "application/vnd.databricks.v1+cell": {
     "showTitle": false,
     "cellMetadata": {},
     "nuid": "ea65c182-fdeb-4385-9af9-6a7cc894ed00",
     "inputWidgets": {},
     "title": ""
    }
   },
   "outputs": [],
   "execution_count": 0
  },
  {
   "cell_type": "code",
   "source": [
    "#Questão: Qual título possui maior pontuação média dentro da categoria \"videogame\" e lançado em 2020? \n",
    "df_questao7.filter(df_questao7[\"explode\"]=='Adventure') \\\n",
    ".groupBy(\"primaryTitle\") \\\n",
    ".avg(\"averageRating\") \\\n",
    ".orderBy(\"avg(averageRating)\", ascending=False).show()"
   ],
   "metadata": {
    "application/vnd.databricks.v1+cell": {
     "showTitle": false,
     "cellMetadata": {},
     "nuid": "d7086dce-61f1-42e8-bbe3-e2abb408ec09",
     "inputWidgets": {},
     "title": ""
    }
   },
   "outputs": [
    {
     "output_type": "display_data",
     "metadata": {
      "application/vnd.databricks.v1+output": {
       "name": null,
       "datasetInfos": [],
       "data": "+--------------------+------------------+\n|        primaryTitle|avg(averageRating)|\n+--------------------+------------------+\n|     Half-Life: Alyx|               9.5|\n|   Ghost of Tsushima|               9.3|\n|               Omori|               9.2|\n|Ori and the Will ...|               9.1|\n|Final Fantasy VII...|               9.1|\n|There Is No Game:...|               8.9|\n|Mega Man Zero/ZX ...|               8.9|\n|Xenoblade Chronic...|               8.8|\n|Yakuza: Like a Dr...|               8.8|\n|       Demon's Souls|               8.8|\n|        Doom Eternal|               8.7|\n|   Pixel Ripped 1995|               8.7|\n|    Astro's Playroom|               8.6|\n|Spider-Man: Miles...|               8.6|\n|Call of Duty: Mod...|               8.5|\n|               Haven|               8.5|\n|        Pumpkin Jack|               8.4|\n|      Desperados III|               8.4|\n|Animal Crossing: ...|               8.4|\n|Assassin's Creed ...|               8.3|\n+--------------------+------------------+\nonly showing top 20 rows\n\n",
       "removedWidgets": [],
       "addedWidgets": {},
       "metadata": {},
       "type": "ansi",
       "arguments": {}
      }
     },
     "data": {
      "text/plain": [
       "+--------------------+------------------+\n|        primaryTitle|avg(averageRating)|\n+--------------------+------------------+\n|     Half-Life: Alyx|               9.5|\n|   Ghost of Tsushima|               9.3|\n|               Omori|               9.2|\n|Ori and the Will ...|               9.1|\n|Final Fantasy VII...|               9.1|\n|There Is No Game:...|               8.9|\n|Mega Man Zero/ZX ...|               8.9|\n|Xenoblade Chronic...|               8.8|\n|Yakuza: Like a Dr...|               8.8|\n|       Demon's Souls|               8.8|\n|        Doom Eternal|               8.7|\n|   Pixel Ripped 1995|               8.7|\n|    Astro's Playroom|               8.6|\n|Spider-Man: Miles...|               8.6|\n|Call of Duty: Mod...|               8.5|\n|               Haven|               8.5|\n|        Pumpkin Jack|               8.4|\n|      Desperados III|               8.4|\n|Animal Crossing: ...|               8.4|\n|Assassin's Creed ...|               8.3|\n+--------------------+------------------+\nonly showing top 20 rows\n\n"
      ]
     }
    }
   ],
   "execution_count": 0
  },
  {
   "cell_type": "code",
   "source": [
    "#Questão: Qual a média da duração dos filmes?\n",
    "merge_df.filter(merge_df['isAdult']=='1').describe(['runtimeMinutes']).show()"
   ],
   "metadata": {
    "application/vnd.databricks.v1+cell": {
     "showTitle": false,
     "cellMetadata": {},
     "nuid": "8c3c903c-4c88-4c8f-9bd6-ad06ec5117b6",
     "inputWidgets": {},
     "title": ""
    }
   },
   "outputs": [
    {
     "output_type": "display_data",
     "metadata": {
      "application/vnd.databricks.v1+output": {
       "name": null,
       "datasetInfos": [],
       "data": "+-------+-----------------+\n|summary|   runtimeMinutes|\n+-------+-----------------+\n|  count|           250127|\n|   mean|92.79938555059914|\n| stddev|57.18982244754776|\n|    min|                1|\n|    max|               \\N|\n+-------+-----------------+\n\n",
       "removedWidgets": [],
       "addedWidgets": {},
       "metadata": {},
       "type": "ansi",
       "arguments": {}
      }
     },
     "data": {
      "text/plain": [
       "+-------+-----------------+\n|summary|   runtimeMinutes|\n+-------+-----------------+\n|  count|           250127|\n|   mean|92.79938555059914|\n| stddev|57.18982244754776|\n|    min|                1|\n|    max|               \\N|\n+-------+-----------------+\n\n"
      ]
     }
    }
   ],
   "execution_count": 0
  },
  {
   "cell_type": "code",
   "source": [
    "#Questão: Quantos filmes tem o primaryTitle diferente do originalTitle? \n",
    "merge_df.filter(merge_df['primaryTitle']!=merge_df['originalTitle']).count()"
   ],
   "metadata": {
    "application/vnd.databricks.v1+cell": {
     "showTitle": false,
     "cellMetadata": {},
     "nuid": "b695c28f-1c11-4794-8612-aac61941bb22",
     "inputWidgets": {},
     "title": ""
    }
   },
   "outputs": [
    {
     "output_type": "display_data",
     "metadata": {
      "application/vnd.databricks.v1+output": {
       "name": null,
       "datasetInfos": [],
       "data": "Out[84]: 125056",
       "removedWidgets": [],
       "addedWidgets": {},
       "metadata": {},
       "type": "ansi",
       "arguments": {}
      }
     },
     "data": {
      "text/plain": [
       "Out[84]: 125056"
      ]
     }
    }
   ],
   "execution_count": 0
  },
  {
   "cell_type": "code",
   "source": [
    "#Questão: Qual o maior numero de votos? \n",
    "merge_df.describe(['numVotes']).show()"
   ],
   "metadata": {
    "application/vnd.databricks.v1+cell": {
     "showTitle": false,
     "cellMetadata": {},
     "nuid": "2245758b-192b-421e-a056-e13e77847a1a",
     "inputWidgets": {},
     "title": ""
    }
   },
   "outputs": [
    {
     "output_type": "display_data",
     "metadata": {
      "application/vnd.databricks.v1+output": {
       "name": null,
       "datasetInfos": [],
       "data": "+-------+------------------+\n|summary|          numVotes|\n+-------+------------------+\n|  count|           1182639|\n|   mean| 973.0778656885153|\n| stddev|16275.709043258432|\n|    min|                 5|\n|    max|           2449517|\n+-------+------------------+\n\n",
       "removedWidgets": [],
       "addedWidgets": {},
       "metadata": {},
       "type": "ansi",
       "arguments": {}
      }
     },
     "data": {
      "text/plain": [
       "+-------+------------------+\n|summary|          numVotes|\n+-------+------------------+\n|  count|           1182639|\n|   mean| 973.0778656885153|\n| stddev|16275.709043258432|\n|    min|                 5|\n|    max|           2449517|\n+-------+------------------+\n\n"
      ]
     }
    }
   ],
   "execution_count": 0
  },
  {
   "cell_type": "code",
   "source": [
    "from pyspark.sql.functions import length\n",
    "\n",
    "#Questão: Qual título mais comprido? \n",
    "merge_df.select(length('primaryTitle').alias('length'), 'primaryTitle', 'tconst').orderBy('length', ascending=False).show(15)"
   ],
   "metadata": {
    "application/vnd.databricks.v1+cell": {
     "showTitle": false,
     "cellMetadata": {},
     "nuid": "33ebc095-b692-4981-8ae1-b5c9d136f375",
     "inputWidgets": {},
     "title": ""
    }
   },
   "outputs": [
    {
     "output_type": "display_data",
     "metadata": {
      "application/vnd.databricks.v1+output": {
       "name": null,
       "datasetInfos": [],
       "data": "+------+--------------------+\n|length|        primaryTitle|\n+------+--------------------+\n|   419|Otoko wa chi _ ko...|\n|   409|Creampie Voluntee...|\n|   408|Yufukuna kurashi ...|\n|   405|An Ultra K-Cup Ti...|\n|   401|I'm A Dirty Old M...|\n|   400|'Oppai dakenara s...|\n|   386|While Horsing Aro...|\n|   383|The Dumb Cunt Is ...|\n|   368|EE.UU. Se replieg...|\n|   366|Kanojo ni furaret...|\n|   351|This Son Was Secr...|\n|   347|Y- the total ease...|\n|   340|I'm the Silent Ty...|\n|   339|'No, No, No! Your...|\n|   337|An Up Close and P...|\n+------+--------------------+\nonly showing top 15 rows\n\n",
       "removedWidgets": [],
       "addedWidgets": {},
       "metadata": {},
       "type": "ansi",
       "arguments": {}
      }
     },
     "data": {
      "text/plain": [
       "+------+--------------------+\n|length|        primaryTitle|\n+------+--------------------+\n|   419|Otoko wa chi _ ko...|\n|   409|Creampie Voluntee...|\n|   408|Yufukuna kurashi ...|\n|   405|An Ultra K-Cup Ti...|\n|   401|I'm A Dirty Old M...|\n|   400|'Oppai dakenara s...|\n|   386|While Horsing Aro...|\n|   383|The Dumb Cunt Is ...|\n|   368|EE.UU. Se replieg...|\n|   366|Kanojo ni furaret...|\n|   351|This Son Was Secr...|\n|   347|Y- the total ease...|\n|   340|I'm the Silent Ty...|\n|   339|'No, No, No! Your...|\n|   337|An Up Close and P...|\n+------+--------------------+\nonly showing top 15 rows\n\n"
      ]
     }
    }
   ],
   "execution_count": 0
  },
  {
   "cell_type": "code",
   "source": [],
   "metadata": {
    "application/vnd.databricks.v1+cell": {
     "showTitle": false,
     "cellMetadata": {},
     "nuid": "7ef6eb91-7329-4571-a529-8ca21d60205c",
     "inputWidgets": {},
     "title": ""
    }
   },
   "outputs": [],
   "execution_count": 0
  }
 ],
 "metadata": {
  "application/vnd.databricks.v1+notebook": {
   "notebookName": "desafio2",
   "dashboards": [],
   "notebookMetadata": {
    "pythonIndentUnit": 4
   },
   "language": "python",
   "widgets": {},
   "notebookOrigID": 407612742116408
  }
 },
 "nbformat": 4,
 "nbformat_minor": 0
}
